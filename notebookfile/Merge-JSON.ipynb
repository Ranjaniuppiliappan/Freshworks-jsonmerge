{
 "cells": [
  {
   "cell_type": "markdown",
   "metadata": {},
   "source": [
    "# Merge function"
   ]
  },
  {
   "cell_type": "code",
   "execution_count": 146,
   "metadata": {},
   "outputs": [],
   "source": [
    "import json\n",
    "def merge(b, a):#merges b into a\n",
    "    for key in b:\n",
    "        if key in a:# if key is in both a and b\n",
    "            if isinstance(a[key], dict) and isinstance(b[key], dict):# if the key is dict Object\n",
    "                merge(a[key], b[key])# combine the values of common key by calling function again\n",
    "            else:#if key is not a dict object\n",
    "              a[key] =a[key]+ b[key]\n",
    "        else: # if the key is not in both a and b add b value inside a\n",
    "            a.update({key:b[key]})\n",
    "    return a"
   ]
  },
  {
   "cell_type": "markdown",
   "metadata": {},
   "source": [
    "# Input function that takes the parameter as follows\n",
    "1. Folder Path\n",
    "2. Input File Base Name\n",
    "3. Output File Base Name\n",
    "4. Max File size"
   ]
  },
  {
   "cell_type": "code",
   "execution_count": 147,
   "metadata": {},
   "outputs": [],
   "source": [
    "import glob\n",
    "def input(path,infile,outfile,maxsize):\n",
    "    # static counter that increments count each time function is called\n",
    "    # this counter is used in naming output file(basename+counter)eg(output1.json)\n",
    "    if 'cnt' not in input.__dict__:\n",
    "        input.cnt = 0\n",
    "    input.cnt += 1\n",
    "    # list that holds the input file\n",
    "    file=[]\n",
    "    # regular expression for selecting all file in the specified path with basename and increasing order of number added as suffix\n",
    "    regex=path+infile+str(\"[0-9]*.json\")\n",
    "    # print(regex)\n",
    "    # using glob to fetch all files with common base name and suffix as number in the path specified\n",
    "    for name in glob.glob(regex):\n",
    "        # append file to the list\n",
    "        file.append(name)\n",
    "        #print(name)\n",
    "    data={}\n",
    "    # creating output file with base name and counter(basename+counter)\n",
    "    outfile=outfile+str(input.cnt)+str(\".json\")\n",
    "    with open(outfile, 'w') as f:\n",
    "        json.dump(data, f)\n",
    "        print(\"Writing the merged output of json files to the file...\\n\"+outfile)\n",
    "    # iterate for each file in the path\n",
    "    for i in range(0,len(file)):\n",
    "        size=os.stat(outfile).st_size\n",
    "        # checks if the file size exceeds the maximum size\n",
    "        if size >maxsize:\n",
    "            print('Data File Exceeds the Limit... Please choose New file..')\n",
    "            return None\n",
    "        # open the json file in list\n",
    "        with open(file[i]) as fp1:\n",
    "            # open the output file\n",
    "            with open(outfile) as fp2:\n",
    "                # read the file\n",
    "                jsondata1=json.load(fp1)\n",
    "                jsondata2=json.load(fp2)\n",
    "                # write the merge output back to the output file\n",
    "                with open(outfile, 'w') as f:\n",
    "                  json.dump(merge(jsondata1,jsondata2),f,sort_keys=True)\n",
    "                # iterate for the next file"
   ]
  },
  {
   "cell_type": "markdown",
   "metadata": {},
   "source": [
    "### Function call creating merged json object file as output"
   ]
  },
  {
   "cell_type": "code",
   "execution_count": 148,
   "metadata": {},
   "outputs": [
    {
     "name": "stdout",
     "output_type": "stream",
     "text": [
      "Writing the merged output of json files to the file...\n",
      "output1.json\n"
     ]
    }
   ],
   "source": [
    "input(\"input\\\\\",\"data\",\"output\",1024)"
   ]
  },
  {
   "cell_type": "markdown",
   "metadata": {},
   "source": [
    "### Output files are named using the base name as a prefix, and a counter as a suffix (counter increased each time function is called)"
   ]
  },
  {
   "cell_type": "code",
   "execution_count": 149,
   "metadata": {},
   "outputs": [
    {
     "name": "stdout",
     "output_type": "stream",
     "text": [
      "Writing the merged output of json files to the file...\n",
      "output2.json\n"
     ]
    }
   ],
   "source": [
    "input(\"input\\\\\",\"data\",\"output\",1024)"
   ]
  },
  {
   "cell_type": "markdown",
   "metadata": {},
   "source": [
    "### File size exceeds max size limit condition"
   ]
  },
  {
   "cell_type": "code",
   "execution_count": 150,
   "metadata": {},
   "outputs": [
    {
     "name": "stdout",
     "output_type": "stream",
     "text": [
      "Writing the merged output of json files to the file...\n",
      "output3.json\n",
      "Data File Exceeds the Limit... Please choose New file..\n"
     ]
    }
   ],
   "source": [
    "input(\"input\\\\\",\"data\",\"output\",100)"
   ]
  },
  {
   "cell_type": "code",
   "execution_count": null,
   "metadata": {},
   "outputs": [],
   "source": []
  }
 ],
 "metadata": {
  "kernelspec": {
   "display_name": "Python 3",
   "language": "python",
   "name": "python3"
  },
  "language_info": {
   "codemirror_mode": {
    "name": "ipython",
    "version": 3
   },
   "file_extension": ".py",
   "mimetype": "text/x-python",
   "name": "python",
   "nbconvert_exporter": "python",
   "pygments_lexer": "ipython3",
   "version": "3.6.5"
  }
 },
 "nbformat": 4,
 "nbformat_minor": 2
}
